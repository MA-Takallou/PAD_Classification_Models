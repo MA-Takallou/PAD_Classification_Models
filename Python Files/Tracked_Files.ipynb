{
 "cells": [
  {
   "cell_type": "code",
   "execution_count": null,
   "id": "58fc3023",
   "metadata": {},
   "outputs": [],
   "source": [
    "import os\n",
    "import os.path as path\n",
    "import pandas as pd\n",
    "import scipy\n",
    "pd.set_option('display.max_rows', None)\n",
    "pd.set_option('display.max_columns', None)"
   ]
  },
  {
   "cell_type": "code",
   "execution_count": null,
   "id": "b8d3e4ce",
   "metadata": {},
   "outputs": [],
   "source": [
    "path = path.abspath(path.join(os.getcwd(),\"../\"))"
   ]
  },
  {
   "cell_type": "code",
   "execution_count": null,
   "id": "36a43d89",
   "metadata": {},
   "outputs": [],
   "source": [
    "path"
   ]
  },
  {
   "cell_type": "code",
   "execution_count": null,
   "id": "bc27430d",
   "metadata": {},
   "outputs": [],
   "source": [
    "os.listdir(folder_path)"
   ]
  },
  {
   "cell_type": "code",
   "execution_count": null,
   "id": "e0f58f11",
   "metadata": {},
   "outputs": [],
   "source": [
    "folder_path = path + '\\\\PAD_Tracked_Untrimmed_Unsmoothed'\n",
    "\n",
    "dfs = []\n",
    "for filename in os.listdir(folder_path):\n",
    "    if filename.endswith(\".csv\"):\n",
    "        try:\n",
    "            filepath = os.path.join(folder_path, filename)\n",
    "            df = pd.read_csv(filepath, skiprows = 5, dtype = float)#, usecols=range(83))\n",
    "            #if df.shape[1] < 82:\n",
    "            #    print(f\"Skipping file {filename} with {df.shape[1]} columns\")\n",
    "            #    continue\n",
    "            print(filename)\n",
    "            print(df.shape)\n",
    "            df.columns = ['Frame', 'Time', 'R.ASIS_x', 'R.ASIS_y', 'R.ASIS_z', 'Right_PSIS_x', 'Right_PSIS_y',\n",
    "                'Right_PSIS_z', 'L.ASIS_x', 'L.ASIS_y', 'L.ASIS_z', 'Left_PSIS_x', 'Left_PSIS_y', 'Left_PSIS_z',\n",
    "                'V.Sacral_x', 'V.Sacral_y', 'V.Sacral_z', 'Right_Troch_x', 'Right_Troch_y', 'Right_Troch_z',\n",
    "                'Right_mid_thigh_x', 'Right_mid_thigh_y', 'Right_mid_thigh_z', 'R.Thigh_x', 'R.Thigh_y', 'R.Thigh_z',\n",
    "                'R.Knee_x', 'R.Knee_y', 'R.Knee_z', 'R.Shank_x', 'R.Shank_y', 'R.Shank_z', 'Right_lower_shank_x',\n",
    "                'Right_lower_shank_y', 'Right_lower_shank_z', 'R.Ankle_x', 'R.Ankle_y', 'R.Ankle_z',\n",
    "                'R.Toe_x', 'R.Toe_y', 'R.Toe_z', 'R.Heel_x', 'R.Heel_y', 'R.Heel_z', 'Right_MTP_lat_x',\n",
    "                'Right_MTP_lat_y', 'Right_MTP_lat_z', 'Right_cal_lat_x', 'Right_cal_lat_y', 'Right_cal_lat_z',\n",
    "                'Left_Troch_x', 'Left_Troch_y', 'Left_Troch_z', 'Left_mid_thigh_x', 'Left_mid_thigh_y', 'Left_mid_thigh_z',\n",
    "                'L.Thigh_x', 'L.Thigh_y', 'L.Thigh_z', 'L.Knee_x', 'L.Knee_y', 'L.Knee_z', 'L.Shank_x', 'L.Shank_y',\n",
    "                'L.Shank_z', 'Left_lower_shank_x', 'Left_lower_shank_y', 'Left_lower_shank_z', 'L.Ankle_x', 'L.Ankle_y',\n",
    "                'L.Ankle_z', 'L.Toe_x', 'L.Toe_y', 'L.Toe_z', 'L.Heel_x', 'L.Heel_y', 'L.Heel_z', 'Left_MTP_lat_x',\n",
    "                'Left_MTP_lat_y', 'Left_MTP_lat_z', 'Left_cal_lat_x', 'Left_cal_lat_y', 'Left_cal_lat_z']\n",
    "            df['filename'] = filename\n",
    "            df.drop(['Frame'], axis=1, inplace=True)\n",
    "            df['PAD'] = 1\n",
    "            df = df.groupby('filename').apply(lambda group: group.interpolate(method='spline', order=3))\n",
    "            dfs.append(df)\n",
    "        except pd.errors.ParserError:\n",
    "            print(f\"Error parsing file: {filename}\")\n",
    "            continue\n",
    "result = pd.concat(dfs, ignore_index=True)"
   ]
  },
  {
   "cell_type": "code",
   "execution_count": null,
   "id": "8f0286c2",
   "metadata": {},
   "outputs": [],
   "source": [
    "result.filename.value_counts()"
   ]
  },
  {
   "cell_type": "code",
   "execution_count": null,
   "id": "d71894d3",
   "metadata": {},
   "outputs": [],
   "source": [
    "#res = result.loc[result['filename'] == 's125p1c1_B1.csv',:]\n",
    "null_counts = result.isnull().sum()\n",
    "\n",
    "# print the null counts for each column\n",
    "print(null_counts)"
   ]
  },
  {
   "cell_type": "code",
   "execution_count": null,
   "id": "7c0fffb5",
   "metadata": {},
   "outputs": [],
   "source": [
    "result.to_csv(folder_path+'/PAD1.csv',index=False)"
   ]
  }
 ],
 "metadata": {
  "kernelspec": {
   "display_name": "Python 3 (ipykernel)",
   "language": "python",
   "name": "python3"
  },
  "language_info": {
   "codemirror_mode": {
    "name": "ipython",
    "version": 3
   },
   "file_extension": ".py",
   "mimetype": "text/x-python",
   "name": "python",
   "nbconvert_exporter": "python",
   "pygments_lexer": "ipython3",
   "version": "3.10.10"
  }
 },
 "nbformat": 4,
 "nbformat_minor": 5
}
